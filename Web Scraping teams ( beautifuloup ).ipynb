{
 "cells": [
  {
   "cell_type": "code",
   "execution_count": 1,
   "metadata": {},
   "outputs": [],
   "source": [
    "#Importation des packages\n",
    "import re\n",
    "import pandas as pd\n",
    "import numpy as np\n",
    "import requests\n",
    "from bs4 import BeautifulSoup\n",
    "import matplotlib.pyplot as plt"
   ]
  },
  {
   "cell_type": "code",
   "execution_count": 2,
   "metadata": {},
   "outputs": [],
   "source": [
    "#Récupération des données\n",
    "teams = pd.read_html('https://en.wikipedia.org/wiki/2018_FIFA_World_Cup_squads', header=0)"
   ]
  },
  {
   "cell_type": "code",
   "execution_count": 3,
   "metadata": {},
   "outputs": [
    {
     "name": "stdout",
     "output_type": "stream",
     "text": [
      "39\n"
     ]
    }
   ],
   "source": [
    "#Taille des données\n",
    "print(len(teams))\n"
   ]
  },
  {
   "cell_type": "code",
   "execution_count": 4,
   "metadata": {},
   "outputs": [],
   "source": [
    "\n",
    "teams = teams[:32]\n",
    "r = requests.get('https://en.wikipedia.org/wiki/2018_FIFA_World_Cup_squads')\n",
    "soup = BeautifulSoup(r.text, 'html.parser')"
   ]
  },
  {
   "cell_type": "code",
   "execution_count": 5,
   "metadata": {},
   "outputs": [],
   "source": [
    "#Extraction des drapeaux\n",
    "\n",
    "for i, table in enumerate(soup.find_all('table')):\n",
    "    j = 0\n",
    "    arr = np.empty(23, dtype='object')\n",
    "    for tag in table.find_all('span', {\"class\": \"flagicon\"}):\n",
    "        if tag.a is None:\n",
    "            continue\n",
    "        arr[j] = tag.img['alt']\n",
    "        j += 1\n",
    "    teams[i][\"Country\"] = arr\n",
    "    if i == 31:\n",
    "        break"
   ]
  },
  {
   "cell_type": "code",
   "execution_count": 6,
   "metadata": {},
   "outputs": [],
   "source": [
    "#Extraction des noms d'équipes\n",
    "\n",
    "i = 0\n",
    "arr = np.empty(32, dtype='object')\n",
    "for tag in soup.find_all(\"h3\"):\n",
    "    for t in tag.find_all(\"span\", {\"class\": \"mw-headline\"}):\n",
    "        arr[i] = t.text\n",
    "        i += 1\n",
    "    if i == 32:\n",
    "        break\n",
    "for team, team_df in zip(arr, teams):\n",
    "    team_df[\"Team\"] = team\n",
    "df = pd.concat(teams)"
   ]
  },
  {
   "cell_type": "code",
   "execution_count": 7,
   "metadata": {},
   "outputs": [
    {
     "data": {
      "text/html": [
       "<div>\n",
       "<style scoped>\n",
       "    .dataframe tbody tr th:only-of-type {\n",
       "        vertical-align: middle;\n",
       "    }\n",
       "\n",
       "    .dataframe tbody tr th {\n",
       "        vertical-align: top;\n",
       "    }\n",
       "\n",
       "    .dataframe thead th {\n",
       "        text-align: right;\n",
       "    }\n",
       "</style>\n",
       "<table border=\"1\" class=\"dataframe\">\n",
       "  <thead>\n",
       "    <tr style=\"text-align: right;\">\n",
       "      <th></th>\n",
       "      <th>No.</th>\n",
       "      <th>Pos.</th>\n",
       "      <th>Player</th>\n",
       "      <th>Date of birth (age)</th>\n",
       "      <th>Caps</th>\n",
       "      <th>Goals</th>\n",
       "      <th>Club</th>\n",
       "      <th>Country</th>\n",
       "      <th>Team</th>\n",
       "    </tr>\n",
       "  </thead>\n",
       "  <tbody>\n",
       "    <tr>\n",
       "      <td>22</td>\n",
       "      <td>23</td>\n",
       "      <td>DF</td>\n",
       "      <td>Felipe Baloy (captain)</td>\n",
       "      <td>NaN</td>\n",
       "      <td>102</td>\n",
       "      <td>3</td>\n",
       "      <td>Municipal</td>\n",
       "      <td>Guatemala</td>\n",
       "      <td>Panama</td>\n",
       "    </tr>\n",
       "    <tr>\n",
       "      <td>19</td>\n",
       "      <td>20</td>\n",
       "      <td>FW</td>\n",
       "      <td>Edison Flores</td>\n",
       "      <td>NaN</td>\n",
       "      <td>29</td>\n",
       "      <td>9</td>\n",
       "      <td>AaB</td>\n",
       "      <td>Denmark</td>\n",
       "      <td>Peru</td>\n",
       "    </tr>\n",
       "    <tr>\n",
       "      <td>15</td>\n",
       "      <td>16</td>\n",
       "      <td>MF</td>\n",
       "      <td>Nordin Amrabat</td>\n",
       "      <td>NaN</td>\n",
       "      <td>44</td>\n",
       "      <td>4</td>\n",
       "      <td>Leganés</td>\n",
       "      <td>Spain</td>\n",
       "      <td>Morocco</td>\n",
       "    </tr>\n",
       "    <tr>\n",
       "      <td>8</td>\n",
       "      <td>9</td>\n",
       "      <td>FW</td>\n",
       "      <td>Raúl Jiménez</td>\n",
       "      <td>NaN</td>\n",
       "      <td>63</td>\n",
       "      <td>13</td>\n",
       "      <td>Benfica</td>\n",
       "      <td>Portugal</td>\n",
       "      <td>Mexico</td>\n",
       "    </tr>\n",
       "    <tr>\n",
       "      <td>15</td>\n",
       "      <td>16</td>\n",
       "      <td>DF</td>\n",
       "      <td>Aziz Behich</td>\n",
       "      <td>NaN</td>\n",
       "      <td>23</td>\n",
       "      <td>2</td>\n",
       "      <td>Bursaspor</td>\n",
       "      <td>Turkey</td>\n",
       "      <td>Australia</td>\n",
       "    </tr>\n",
       "  </tbody>\n",
       "</table>\n",
       "</div>"
      ],
      "text/plain": [
       "    No. Pos.                  Player  Date of birth (age)  Caps  Goals  \\\n",
       "22   23   DF  Felipe Baloy (captain)                  NaN   102      3   \n",
       "19   20   FW           Edison Flores                  NaN    29      9   \n",
       "15   16   MF          Nordin Amrabat                  NaN    44      4   \n",
       "8     9   FW            Raúl Jiménez                  NaN    63     13   \n",
       "15   16   DF             Aziz Behich                  NaN    23      2   \n",
       "\n",
       "         Club    Country       Team  \n",
       "22  Municipal  Guatemala     Panama  \n",
       "19        AaB    Denmark       Peru  \n",
       "15    Leganés      Spain    Morocco  \n",
       "8     Benfica   Portugal     Mexico  \n",
       "15  Bursaspor     Turkey  Australia  "
      ]
     },
     "execution_count": 7,
     "metadata": {},
     "output_type": "execute_result"
    }
   ],
   "source": [
    "df.sample(5)"
   ]
  },
  {
   "cell_type": "code",
   "execution_count": 11,
   "metadata": {},
   "outputs": [],
   "source": [
    "df.to_csv(\"squads.csv\", encoding='utf-8')\n"
   ]
  }
 ],
 "metadata": {
  "kernelspec": {
   "display_name": "Python 3",
   "language": "python",
   "name": "python3"
  },
  "language_info": {
   "codemirror_mode": {
    "name": "ipython",
    "version": 3
   },
   "file_extension": ".py",
   "mimetype": "text/x-python",
   "name": "python",
   "nbconvert_exporter": "python",
   "pygments_lexer": "ipython3",
   "version": "3.7.4"
  }
 },
 "nbformat": 4,
 "nbformat_minor": 2
}
